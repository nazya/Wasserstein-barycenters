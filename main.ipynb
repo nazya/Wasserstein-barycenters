{
 "cells": [
  {
   "cell_type": "code",
   "execution_count": 1,
   "metadata": {},
   "outputs": [],
   "source": [
    "import time, sys\n",
    "from IPython.display import clear_output\n",
    "\n",
    "def update_progress(progress, info=''):\n",
    "    bar_length = 20\n",
    "    if isinstance(progress, int):\n",
    "        progress = float(progress)\n",
    "    if not isinstance(progress, float):\n",
    "        progress = 0\n",
    "    if progress < 0:\n",
    "        progress = 0\n",
    "    if progress >= 1:\n",
    "        progress = 1\n",
    "\n",
    "    block = int(round(bar_length * progress))\n",
    "\n",
    "    clear_output(wait = True)\n",
    "    text = \"Progress: [{0}] {1:.1f}%\".format( \"#\" * block + \"-\" * (bar_length - block), progress * 100) + '\\n' + info\n",
    "    print(text)"
   ]
  },
  {
   "cell_type": "code",
   "execution_count": 2,
   "metadata": {},
   "outputs": [],
   "source": [
    "from mnist import MNIST\n",
    "import numpy as np\n",
    "from scipy.spatial.distance import cdist\n",
    "import cv2\n",
    "import math\n",
    "#https://pypi.org/project/python-mnist\n",
    "%matplotlib inline\n",
    "import matplotlib.pyplot as plt"
   ]
  },
  {
   "cell_type": "code",
   "execution_count": 3,
   "metadata": {},
   "outputs": [],
   "source": [
    "mndata = MNIST('./python-mnist/data')\n",
    "images_all, labels_all = mndata.load_training()"
   ]
  },
  {
   "cell_type": "code",
   "execution_count": 4,
   "metadata": {},
   "outputs": [],
   "source": [
    "#chosing digit\n",
    "digit = 8\n",
    "images_all = np.array(images_all)\n",
    "labels = np.array(labels_all)\n",
    "images = images_all[labels==digit]"
   ]
  },
  {
   "cell_type": "code",
   "execution_count": 5,
   "metadata": {},
   "outputs": [],
   "source": [
    "#chosing number of images\n",
    "M = 10"
   ]
  },
  {
   "cell_type": "code",
   "execution_count": 6,
   "metadata": {},
   "outputs": [],
   "source": [
    "import random\n",
    "randoms = random.sample(range(0, len(images)), M)"
   ]
  },
  {
   "cell_type": "code",
   "execution_count": 7,
   "metadata": {},
   "outputs": [],
   "source": [
    "weights = 1/M * np.ones(M, np.float64)\n",
    "#weights = np.array(random.sample(range(1, 100), M), np.float64)\n",
    "#weights /= weights.sum()\n",
    "p = np.float64(images[:M])\n",
    "p+=1e-6\n",
    "p = p / p.sum(axis=1)[:,np.newaxis]"
   ]
  },
  {
   "cell_type": "code",
   "execution_count": 8,
   "metadata": {},
   "outputs": [],
   "source": [
    "n = len(p[0]) #pixels number\n",
    "m = int(np.sqrt(n)) #side pixels number"
   ]
  },
  {
   "cell_type": "code",
   "execution_count": 9,
   "metadata": {},
   "outputs": [
    {
     "data": {
      "image/png": "[encoded data removed]",
      "text/plain": [
       "<Figure size 432x288 with 1 Axes>"
      ]
     },
     "metadata": {
      "needs_background": "light"
     },
     "output_type": "display_data"
    }
   ],
   "source": [
    "plot = True\n",
    "if plot:\n",
    "    plt.imshow(p[1].reshape(-1, m), cmap=plt.get_cmap('gray'))\n",
    "    plt.show()"
   ]
  },
  {
   "cell_type": "code",
   "execution_count": 10,
   "metadata": {},
   "outputs": [
    {
     "data": {
      "text/plain": [
       "2.666869910953892"
      ]
     },
     "execution_count": 10,
     "metadata": {},
     "output_type": "execute_result"
    }
   ],
   "source": [
    "def cartesian_product(*arrays):\n",
    "    la = len(arrays)\n",
    "    dtype = np.result_type(*arrays)\n",
    "    arr = np.empty([len(a) for a in arrays] + [la], dtype=dtype)\n",
    "    for i, a in enumerate(np.ix_(*arrays)):\n",
    "        arr[...,i] = a\n",
    "    return arr.reshape(-1, la)\n",
    "\n",
    "C = np.arange(m)\n",
    "C = cartesian_product(C, C)\n",
    "C = cdist(C, C)\n",
    "C[C==0] = 1e-1\n",
    "C /= np.median(C)\n",
    "C.max()"
   ]
  },
  {
   "cell_type": "code",
   "execution_count": 14,
   "metadata": {},
   "outputs": [],
   "source": [
    "def f_(X):\n",
    "    return np.einsum('k,kij,ij->', weights, X, C)\n",
    "\n",
    "def f_true_(X):\n",
    "    Y = X\n",
    "    Y[X==0] = 1.\n",
    "    return np.einsum('k,kij,ij->', weights, X, C) + gamma*np.einsum('k,kij,kij', weights, X, np.log(Y))\n",
    "\n",
    "def phi_(u, v):\n",
    "    return np.einsum('k,k', weights, (np.einsum('ki,ij,kj->k', np.exp(u),K,np.exp(v)) - np.einsum('ki,ki->k', u, p)))\n",
    "\n",
    "def grad_phi_u_(u, v):\n",
    "    return np.einsum('k,ki,ij,kj->ki', weights, np.exp(u),K,np.exp(v)) - np.einsum('k,ki->ki',weights, p)\n",
    "\n",
    "def grad_phi_v_(u, v):\n",
    "    v_M = -np.einsum('k,ki->i', weights[:M-1], v[:M-1]) / weights[-1]\n",
    "    return np.einsum('k,ki,ij,kj->kj', weights[:M-1], np.exp(u[:M-1]),K,np.exp(v[:M-1])) - np.einsum('k,i,ij,j->kj', weights[:M-1], np.exp(u[-1]),K,np.exp(v_M))/weights[-1]\n",
    "\n",
    "def argmin_u_(v):\n",
    "    return np.log(p) - np.log(np.einsum('ij,kj->ki', K, np.exp(v)))\n",
    "\n",
    "def argmin_v_(u):\n",
    "    return np.einsum('k,ki->i', weights, np.log(np.einsum('ij,ki->kj', K, np.exp(u)))) - np.log(np.einsum('ij,ki->kj', K, np.exp(u)))    "
   ]
  },
  {
   "cell_type": "markdown",
   "metadata": {},
   "source": [
    "# IBP"
   ]
  },
  {
   "cell_type": "code",
   "execution_count": 17,
   "metadata": {},
   "outputs": [],
   "source": [
    "def IBP(N):\n",
    "    primal=np.zeros([M, n, n], np.float64)\n",
    "    phis=[]\n",
    "    fs=[]\n",
    "    fts=[]\n",
    "    i=0\n",
    "    v = np.zeros([M,n], np.float64)\n",
    "    u = np.zeros([M,n], np.float64)\n",
    "    while i < N:\n",
    "        update_progress(i / N)\n",
    "        if i%2 == 1:\n",
    "            v = np.einsum('k,ki->i', weights, np.log(np.einsum('ij,ki->kj', K, np.exp(u)))) - np.log(np.einsum('ij,ki->kj', K, np.exp(u)))\n",
    "        else:\n",
    "            u = np.log(p) - np.log(np.einsum('ij,kj->ki', K, np.exp(v)))\n",
    "        phis.append(phi_(u, v))\n",
    "        i+=1\n",
    "        primal = np.einsum('ki,ij,kj->kij',np.exp(u),K,np.exp(v))\n",
    "        fs.append(f_(primal))\n",
    "        fts.append(f_true_(primal))\n",
    "    B = np.einsum('ki,ij,kj->kij',np.exp(u),K,np.exp(v))\n",
    "    return N, phis, B, fs, fts"
   ]
  },
  {
   "cell_type": "code",
   "execution_count": 38,
   "metadata": {},
   "outputs": [
    {
     "name": "stdout",
     "output_type": "stream",
     "text": [
      "Progress: [####################] 99.0%\n",
      "\n"
     ]
    }
   ],
   "source": [
    "N=100\n",
    "gamma=5e-3\n",
    "K = np.exp(-C/gamma)\n",
    "N1, phis1, B1, fs1, fts1 = IBP(N)"
   ]
  },
  {
   "cell_type": "code",
   "execution_count": 39,
   "metadata": {},
   "outputs": [
    {
     "data": {
      "image/png": "[encoded data removed]",
      "text/plain": [
       "<Figure size 432x288 with 1 Axes>"
      ]
     },
     "metadata": {
      "needs_background": "light"
     },
     "output_type": "display_data"
    }
   ],
   "source": [
    "q_bar = np.einsum('k,kij->j', weights, B1)\n",
    "plt.imshow(q_bar.reshape(-1, m), cmap=plt.get_cmap('gray'))\n",
    "plt.show()"
   ]
  },
  {
   "cell_type": "markdown",
   "metadata": {},
   "source": [
    "# ACCELERATED ALTERNATING MINIMIZATION"
   ]
  },
  {
   "cell_type": "code",
   "execution_count": 21,
   "metadata": {},
   "outputs": [],
   "source": [
    "def AAM(N, L, step=2):\n",
    "    primal=np.zeros([M, n, n], np.float64)\n",
    "    xi = np.zeros([2*M, n], np.float64)\n",
    "    eta = xi.copy()\n",
    "    zeta = xi.copy()\n",
    "    eta_new = xi.copy()\n",
    "    zeta_new = xi.copy()\n",
    "    grad2 = alpha_new = alpha = 0\n",
    "    i=0\n",
    "    phis=[]\n",
    "    fs=[]\n",
    "    fts=[]\n",
    "    primal = np.einsum('ki,ij,kj->kij',np.exp(xi[M:]),K,np.exp(xi[:M]))\n",
    "    while i < N:\n",
    "        L_new = L/step\n",
    "        while True:\n",
    "            update_progress(i / N, '\\tL='+str(L))\n",
    "            alpha_new = 1/2/L_new + np.sqrt(1/4/L_new/L_new + alpha*alpha*L/L_new)\n",
    "            tau = 1/alpha_new/L_new\n",
    "            xi = tau*zeta + (1-tau)*eta\n",
    "            grad_phi_v = grad_phi_v_(xi[M:], xi[:M])\n",
    "            grad_phi_u = grad_phi_u_(xi[M:], xi[:M])\n",
    "            if i%2 == 1:\n",
    "                eta_new[:M] = argmin_v_(xi[M:])\n",
    "            else:\n",
    "                eta_new[M:] = argmin_u_(xi[:M])\n",
    "            grad2 = (grad_phi_u*grad_phi_u).sum() + (grad_phi_v*grad_phi_v).sum()\n",
    "            if phi_(eta_new[M:], eta_new[:M]) <= phi_(xi[M:], xi[:M]) - (grad2)/2/L_new:\n",
    "                zeta_new[:M-1] = zeta_new[:M-1] - alpha_new * grad_phi_v\n",
    "                zeta_new[M] = -np.einsum('k,ki->i', weights[:M-1], zeta_new[:M-1])/weights[-1]\n",
    "                zeta_new[M:] = zeta_new[M:] - alpha_new * grad_phi_u\n",
    "                phis.append(phi_(eta_new[M:], eta_new[:M]))\n",
    "                primal=(alpha_new*np.einsum('ki,ij,kj->kij',np.exp(xi[M:]),K,np.exp(xi[:M]))+L*alpha*alpha*primal)/L_new/alpha_new/alpha_new\n",
    "                fs.append(f_(primal))\n",
    "                fts.append(f_true_(primal))\n",
    "                alpha = alpha_new\n",
    "                eta = eta_new.copy()\n",
    "                zeta = zeta_new.copy()\n",
    "                L = L_new\n",
    "                break\n",
    "            L_new*=step\n",
    "        i+=1 \n",
    "               \n",
    "    B = np.einsum('ki,ij,kj->kij',np.exp(eta[M:]),K,np.exp(eta[:M]))        \n",
    "    return N, np.array(phis), B, fs, fts"
   ]
  },
  {
   "cell_type": "code",
   "execution_count": 23,
   "metadata": {},
   "outputs": [
    {
     "name": "stdout",
     "output_type": "stream",
     "text": [
      "Progress: [####################] 99.0%\n",
      "\tL=0.00390625\n"
     ]
    }
   ],
   "source": [
    "N=100\n",
    "gamma = 5e-3\n",
    "N2, phis2, B2, fs2, fts2 = AAM(N, 1, step=2)"
   ]
  },
  {
   "cell_type": "code",
   "execution_count": 24,
   "metadata": {},
   "outputs": [
    {
     "data": {
      "image/png": "[encoded data removed]",
      "text/plain": [
       "<Figure size 432x288 with 1 Axes>"
      ]
     },
     "metadata": {
      "needs_background": "light"
     },
     "output_type": "display_data"
    }
   ],
   "source": [
    "q_bar = np.einsum('k,kij->j', weights, B2)\n",
    "plt.imshow(q_bar.reshape(-1, m), cmap=plt.get_cmap('gray'))\n",
    "plt.show()"
   ]
  },
  {
   "cell_type": "markdown",
   "metadata": {},
   "source": [
    "# ACCELERATED ALTERNATING MINIMIZATION (LINE SEARCH)"
   ]
  },
  {
   "cell_type": "code",
   "execution_count": 25,
   "metadata": {},
   "outputs": [],
   "source": [
    "def binary_ab(f, xleft, xright, eps_search):\n",
    "    N = math.floor(np.log2(abs(xright - xleft)/eps_search)) + 1\n",
    "    k=0\n",
    "    a = xleft + (xright - xleft)/4\n",
    "    b = xleft + (xright - xleft)/2\n",
    "    fa = f(a)\n",
    "    fb = f(b)\n",
    "    fleft = f(xleft)\n",
    "    fright = f(xright)\n",
    "    while fb - fa > eps_search or k < N:\n",
    "        #print(fa, fb)\n",
    "        if fa > fb:\n",
    "            fleft = fa\n",
    "            xleft = a\n",
    "        elif fb > fa:\n",
    "            fright = fb\n",
    "            xright = b\n",
    "        else:\n",
    "            break\n",
    "        k+=1\n",
    "    \n",
    "        a = xleft + (xright - xleft)/4\n",
    "        b = xleft + (xright - xleft)/2\n",
    "        fa = f(a)\n",
    "        fb = f(b)\n",
    "        \n",
    "    #return xleft, fleft\n",
    "    \n",
    "    minf = min(fleft, fa, fb, fright)\n",
    "    if minf == fleft:\n",
    "        return xleft, fleft\n",
    "    elif minf == fa:\n",
    "        return a, fa\n",
    "    elif minf == fb:\n",
    "        return b, fb\n",
    "    elif minf == fright:\n",
    "        return xright, fright\n",
    "    \n",
    "def phi_1d_(x, e):\n",
    "    def phi_1d(h):\n",
    "        vu = x + e*h\n",
    "        return phi_(vu[M:], vu[:M])\n",
    "    return phi_1d"
   ]
  },
  {
   "cell_type": "code",
   "execution_count": 33,
   "metadata": {},
   "outputs": [],
   "source": [
    "def AAM_line_search(N):\n",
    "    primal=np.zeros([M, n, n], np.float64)\n",
    "    xi = np.zeros([2*M, n], np.float64)\n",
    "    eta = xi.copy()\n",
    "    zeta = xi.copy()\n",
    "    grad_phi_u = np.zeros([M, n], np.float64)\n",
    "    grad_phi_v = np.zeros([M, n], np.float64)\n",
    "    alpha = 0\n",
    "    i=0\n",
    "    A=0\n",
    "    phis=[]\n",
    "    fs=[]\n",
    "    fts=[]\n",
    "    primal = np.einsum('ki,ij,kj->kij',np.exp(xi[M:]),K,np.exp(xi[:M]))\n",
    "    while i < N:\n",
    "        update_progress(i / N)\n",
    "        beta, _ = binary_ab(phi_1d_(eta, (zeta-eta)), 0, 1, 1e-4)\n",
    "        xi = eta + beta*(zeta - eta)\n",
    "        \n",
    "        grad_phi_v = grad_phi_v_(xi[M:], xi[:M])\n",
    "        grad_phi_u = grad_phi_u_(xi[M:], xi[:M])\n",
    "        if i%2 == 0:\n",
    "            eta[:M] = argmin_v_(xi[M:])\n",
    "        else:\n",
    "            eta[M:] = argmin_u_(xi[:M])\n",
    "            \n",
    "        a = (grad_phi_u*grad_phi_u).sum() + (grad_phi_v*grad_phi_v).sum()\n",
    "        b = 2*(phi_(eta[M:], eta[:M]) - phi_(xi[M:], xi[:M]))\n",
    "        c = b*A\n",
    "         \n",
    "        alpha = (-b + np.sqrt(b*b - 4*a*c))/2/a\n",
    "        A+=alpha\n",
    "        \n",
    "        zeta[M:] = zeta[M:] - alpha * grad_phi_u        \n",
    "        zeta[:M-1] = zeta[:M-1] - alpha * grad_phi_v\n",
    "        zeta[M] = -np.einsum('k,ki->i', weights[:M-1], zeta[:M-1])/weights[-1]\n",
    "        \n",
    "        phis.append(phi_(xi[M:], xi[:M]))\n",
    "        primal=np.einsum('ki,ij,kj->kij',np.exp(xi[M:]),K,np.exp(xi[:M]))\n",
    "        fs.append(f_(primal))\n",
    "        fts.append(f_true_(primal))\n",
    "        i+=1\n",
    "        \n",
    "    B = np.einsum('ki,ij,kj->kij',np.exp(eta[M:]),K,np.exp(eta[:M]))        \n",
    "    return N, np.array(phis), B, fs, fts"
   ]
  },
  {
   "cell_type": "code",
   "execution_count": 41,
   "metadata": {},
   "outputs": [
    {
     "name": "stdout",
     "output_type": "stream",
     "text": [
      "Progress: [####################] 99.0%\n",
      "\n"
     ]
    }
   ],
   "source": [
    "N=100\n",
    "gamma = 5e-3\n",
    "N3, phis3, B3, fs3, fts3 = sea_IBP(N)"
   ]
  },
  {
   "cell_type": "code",
   "execution_count": 30,
   "metadata": {},
   "outputs": [
    {
     "data": {
      "image/png": "[encoded data removed]",
      "text/plain": [
       "<Figure size 432x288 with 1 Axes>"
      ]
     },
     "metadata": {
      "needs_background": "light"
     },
     "output_type": "display_data"
    }
   ],
   "source": [
    "q_bar = np.einsum('k,kij->j', weights, B3)\n",
    "plt.imshow(q_bar.reshape(-1, m), cmap=plt.get_cmap('gray'))\n",
    "plt.show()"
   ]
  },
  {
   "cell_type": "markdown",
   "metadata": {},
   "source": [
    "# COMPARISON"
   ]
  },
  {
   "cell_type": "code",
   "execution_count": 48,
   "metadata": {},
   "outputs": [],
   "source": [
    "N = min(N1, N2, N3)\n",
    "begin = 10\n",
    "x = range(begin, N)"
   ]
  },
  {
   "cell_type": "code",
   "execution_count": 49,
   "metadata": {},
   "outputs": [
    {
     "data": {
      "image/png": "[encoded data removed]",
      "text/plain": [
       "<Figure size 432x288 with 1 Axes>"
      ]
     },
     "metadata": {
      "needs_background": "light"
     },
     "output_type": "display_data"
    }
   ],
   "source": [
    "fig, ax = plt.subplots()\n",
    "ax.plot(x, phis1[begin:N], '-b', label='IBP')\n",
    "ax.plot(x, phis2[begin:N], '-r', label='AAM')\n",
    "ax.plot(x, phis3[begin:N], '-y', label='AAM(LineSearch)')\n",
    "ax.set_xlabel('iteration index')\n",
    "ax.set_ylabel('dual objective')\n",
    "leg = ax.legend();"
   ]
  },
  {
   "cell_type": "code",
   "execution_count": 50,
   "metadata": {},
   "outputs": [
    {
     "data": {
      "image/png": "[encoded data removed]",
      "text/plain": [
       "<Figure size 432x288 with 1 Axes>"
      ]
     },
     "metadata": {
      "needs_background": "light"
     },
     "output_type": "display_data"
    }
   ],
   "source": [
    "fig, ax = plt.subplots()\n",
    "ax.plot(x, fs1[begin:N], '-b', label='IBP')\n",
    "ax.plot(x, fs2[begin:N], '-r', label='AAM')\n",
    "ax.plot(x, fs3[begin:N], '-y', label='AAM(LineSearch)')\n",
    "ax.set_xlabel('iteration index')\n",
    "ax.set_ylabel('primal objective')\n",
    "leg = ax.legend();"
   ]
  },
  {
   "cell_type": "code",
   "execution_count": 51,
   "metadata": {},
   "outputs": [
    {
     "data": {
      "image/png": "[encoded data removed]",
      "text/plain": [
       "<Figure size 432x288 with 1 Axes>"
      ]
     },
     "metadata": {
      "needs_background": "light"
     },
     "output_type": "display_data"
    }
   ],
   "source": [
    "fig, ax = plt.subplots()\n",
    "ax.plot(x, fts1[begin:N], '-b', label='IBP')\n",
    "ax.plot(x, fts2[begin:N], '-r', label='AAM')\n",
    "ax.plot(x, fts3[begin:N], '-y', label='AAM(LineSearch)')\n",
    "ax.set_xlabel('iteration index')\n",
    "ax.set_ylabel('primal non-regularized')\n",
    "leg = ax.legend();"
   ]
  }
 ],
 "metadata": {
  "kernelspec": {
   "display_name": "Python 3",
   "language": "python",
   "name": "python3"
  },
  "language_info": {
   "codemirror_mode": {
    "name": "ipython",
    "version": 3
   },
   "file_extension": ".py",
   "mimetype": "text/x-python",
   "name": "python",
   "nbconvert_exporter": "python",
   "pygments_lexer": "ipython3",
   "version": "3.7.3"
  }
 },
 "nbformat": 4,
 "nbformat_minor": 2
}
